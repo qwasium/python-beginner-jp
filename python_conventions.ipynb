{
 "cells": [
  {
   "cell_type": "markdown",
   "metadata": {},
   "source": [
    "# 研究用Pythonコーディング規約\n",
    "\n",
    "- Feb 2024\n",
    "- Simon H. Kuwahara"
   ]
  },
  {
   "cell_type": "markdown",
   "metadata": {},
   "source": [
    "---\n",
    "\n",
    "## 目的\n",
    "\n",
    "この文書は、ラボのPythonコーディング規約を定義するものである。この規約は、ラボのPythonプロジェクトにおいて、あくまでもプロエンジニアではなくアマチュアが使う前提で\n",
    "\n",
    "- システムを破壊しないための順守事項を定める\n",
    "- コードの品質を担保し、可読性と保守性を向上させる\n",
    "- いつ、だれ、なんのプロジェクト、を明確にする"
   ]
  },
  {
   "cell_type": "markdown",
   "metadata": {},
   "source": [
    "---\n",
    "\n",
    "## 環境\n",
    "\n",
    "- Python 3 (目安は最新の一個前のバージョン)\n",
    "- Windows 11\n",
    "- VSCode\n",
    "  - Python/Jupyter公式拡張機能\n",
    "  - GitHub Copilot\n",
    "  - Black Formatter\n",
    "  - Data Wrangler\n",
    "  - Rainbow CSV\n",
    "  - Markdown All in One\n",
    "  - 他はお好みで"
   ]
  },
  {
   "cell_type": "markdown",
   "metadata": {},
   "source": [
    "---\n",
    "\n",
    "## ドキュメント、ワークフロー、ツール"
   ]
  },
  {
   "cell_type": "markdown",
   "metadata": {},
   "source": [
    "### REDMEを必ず書くこと\n",
    "\n",
    "**人のコードは自分のコード**：なんだこのくそコードは？と思ったら、1ヶ月前に書いた自分のコードだった、というあるある。\n",
    "\n",
    "自分のコードですら読めないのに、他人のコードなんざなおさら読めたものではないので、他人のことを考えたドキュメント作成やコーディングを心がけること。\n",
    "\n",
    "READMEは:\n",
    "\n",
    "- ファイル名は`README.md`または`README`\n",
    "- プロジェクトフォルダーのルードディレクトリに配置する\n",
    "- markdown形式で記述する\n",
    "- 全く関係のない第三者が説明なしで研究を完璧に再現できるように必要な情報を全て記述する\n",
    "\n",
    "### 冒頭コメント\n",
    "\n",
    "あんまり書きすぎると面倒、、、というのもあるが、それ以前にうちのラボではコードをファイル１枚で扱うような使い方をしているから冒頭コメントが必要になる。\n",
    "\n",
    "大前提として、単一のファイルではなく、レポジトリ単位で扱うこと。レポジトリ単位で扱えばいちいち全てのファイルに詳細を書かなくてもREADMEに情報を集約できる。\n",
    "\n",
    "ファイルの冒頭コメントには以下を記述するのが良いのではないかと思う。\n",
    "\n",
    "- Pythonバージョン\n",
    "- OS\n",
    "- 日付\n",
    "- 作成者\n",
    "- プロジェクト名\n",
    "- その他必要な情報\n",
    "\n",
    "例"
   ]
  },
  {
   "cell_type": "code",
   "execution_count": null,
   "metadata": {},
   "outputs": [],
   "source": [
    "# Python 11.0.1\n",
    "# Windows 11 22H2\n",
    "# Feb. 1, 2024\n",
    "# Jane Doe\n",
    "# 〇〇社共同プロジェクト"
   ]
  },
  {
   "cell_type": "markdown",
   "metadata": {},
   "source": [
    "### スパゲッティノートブックは禁ずる\n",
    "\n",
    "仕事場は綺麗にしておくこと。\n",
    "\n",
    "ジュピターノートブックは作業が終わったら必ず綺麗に掃除して残すか消せ。\n",
    "\n",
    "後で使うかもしれないと思って残しておくと、あっという間にゴミ集積場ができる。\n",
    "\n",
    "プロジェクト内に解読不能なゴミは残すな。絶対にだ。"
   ]
  },
  {
   "cell_type": "markdown",
   "metadata": {},
   "source": [
    "\n",
    "### Office使用禁止\n",
    "\n",
    "原則としてWordとExcelは禁ずる。研究で使う場面はほとんどないくせにプログラミングとの相性が最悪すぎる。\n",
    "\n",
    "- Word: 90%のことはマークダウンが適切。マークダウンで書けないなら大抵複雑過ぎる。\n",
    "  - メモやドキュメント目的：**マークダウン**を使うこと。\n",
    "  - 論文や複雑な文書目的：LaTeXを使うこと。**Overleaf**を使うとめちゃ簡単。\n",
    "- Excel: Excelファイルはデータ処理を再現できないのとコードで処理しづらいので避けること。\n",
    "  - データ目的：**csv**, txt, tsv, json, xmlなどを使うこと\n",
    "  - みんなで共有したいテーブル：**Googleスプレッドシート**を使ってリンクをドキュメントに貼ること"
   ]
  },
  {
   "cell_type": "markdown",
   "metadata": {},
   "source": [
    "### Windows設定\n",
    "\n",
    "以下のWindowsレジストリを変更しておくこと。レジストリをいじる時は無関係なものを触らないように注意すること。\n",
    "\n",
    "#### パスの最大長を260文字から32767文字に変更する。\n",
    "\n",
    "- registry: `Computer\\HKEY_LOCAL_MACHINE\\SYSTEM\\CurrentControlSet\\Control\\FileSystem\\LongPathsEnabled (Type: REG_DWORD)`\n",
    "- 設定値をこの値に変更すること: 1\n",
    "\n",
    "#### 管理者権限の実行にパスワード入力を要求する。\n",
    "\n",
    "- registry: `HKEY_LOCAL_MACHINE\\SOFTWARE\\Microsoft\\Windows\\CurrentVersion\\Policies\\System\\ConsentPromptBehaviorAdmin`\n",
    "- 設定値をこの値に変更すること: 1\n",
    "\n",
    "#### パワーシェル実行ポリシーを変更する\n",
    "\n",
    "実行ポリシーが`Restricted`になっているとPowerShellスクリプトでエラーを吐く。\n",
    "その場合は`Set-ExecutionPolicy`コマンドで実行ポリシーを変更する必要がある。\n",
    "\n",
    "- [Microsoft公式](https://learn.microsoft.com/ja-jp/powershell/module/microsoft.powershell.core/about/about_execution_policies?view=powershell-7.4)\n",
    "- [参考ブログ](https://qiita.com/kikuchi/items/59f219eae2a172880ba6)\n",
    "\n",
    "```powershell\n",
    "# PowerShell\n",
    "Set-ExecutionPolicy RemoteSigned\n",
    "```"
   ]
  },
  {
   "cell_type": "markdown",
   "metadata": {},
   "source": [
    "### Python環境\n",
    "\n",
    "`./python_environments.md`を参照すること。\n",
    "\n",
    "仮想環境を作ったほうが良いのは事実ではある。\n",
    "\n",
    "でも個人的意見としてはコンフリクトが起きないような簡単な環境なら、仮想環境を使わなくても直接pipでインストールしても良いのではないかと思う。"
   ]
  },
  {
   "cell_type": "markdown",
   "metadata": {},
   "source": [
    "### blackのフォーマットチェックに合格すること\n",
    "\n",
    "原則として**PEP8に従うこと**。PEP8に違反するコードは急速にコードベースを汚染するので、正当な理由なくPEP8を逸脱することは認めない。\n",
    "\n",
    "そこで`black`は、Pythonのコードフォーマッタが便利。\n",
    "\n",
    "設定をしておけば保存時に自動でPEP8に適合しているかチェックして自動修正してくれるので、コードを書く際には気にすることなく書ける。そして、フォーマットチェック引っかかったら修正すれば良い。\n",
    "\n",
    "よって、`black`の導入は義務とし、フォーマットチェックを通過しないコードは研究で使用することを禁ずる。\n",
    "\n",
    "vscodeの場合、Black Formatterエクステンションをインストールし、プロジェクトディレクトリ下の`.vscode/settings.json`に以下を追加することで、自動フォーマットが可能となる。このレポジトリの`.vscode/settings.json`を参照されたし。\n",
    "\n",
    "```json\n",
    "{\n",
    "    \"python.formatting.provider\": \"black\"\n",
    "}\n",
    "```\n",
    "\n",
    "他のエディタを使用する場合は、`pip install black`で`black`をインストールし、powershellから以下のコマンドでフォーマットを実行する。\n",
    "\n",
    "```powershell\n",
    "# PowerShell\n",
    "black your_file.py\n",
    "```"
   ]
  },
  {
   "cell_type": "markdown",
   "metadata": {},
   "source": [
    "---\n",
    "\n",
    "## PEP8"
   ]
  },
  {
   "cell_type": "markdown",
   "metadata": {},
   "source": [
    "全部覚えるのは無理なので、特に知っておくと良いと思われるPEP8のルールを以下に列挙する。\n",
    "\n",
    "基本的には`black`のフォーマットチェックに引っかかったら調べて直すで良いと思う。\n",
    "\n",
    "### 命名規則\n",
    "\n",
    "| object | naming | example |\n",
    "| --- | --- | --- |\n",
    "| 変数 | snake_case | `my_variable` |\n",
    "| 変数（定数） | ALL_CAPS | `MY_CONSTANT` |\n",
    "| 関数 | snake_case | `my_function` |\n",
    "| クラス | CapWords | `MyClass` |\n",
    "| ファイル名 | snake_case | `my_file.py` |\n",
    "\n"
   ]
  },
  {
   "cell_type": "markdown",
   "metadata": {},
   "source": [
    "---\n",
    "\n",
    "## デザインパターン、アンチパターン"
   ]
  },
  {
   "cell_type": "markdown",
   "metadata": {},
   "source": [
    "### 環境変数は原則変更しないこと\n",
    "\n",
    "離れたフォルダーにあるPythonファイルを`import`するときに、`sys.path.append`を使いたくなるかもしれないが、それはやめること。\n",
    "\n",
    "**ミスると環境が壊れるから。**\n",
    "\n",
    "どうしても環境変数を変更したい場合は、必ずコンテキストマネージャを使うこと。\n",
    "\n",
    "例"
   ]
  },
  {
   "cell_type": "code",
   "execution_count": 3,
   "metadata": {},
   "outputs": [
    {
     "data": {
      "text/plain": [
       "['AddPath',\n",
       " 'HelperFunctions',\n",
       " 'JumpDir',\n",
       " '__builtins__',\n",
       " '__cached__',\n",
       " '__doc__',\n",
       " '__file__',\n",
       " '__loader__',\n",
       " '__name__',\n",
       " '__package__',\n",
       " '__spec__',\n",
       " 'json',\n",
       " 'os',\n",
       " 're',\n",
       " 'sys',\n",
       " 'warnings']"
      ]
     },
     "execution_count": 3,
     "metadata": {},
     "output_type": "execute_result"
    }
   ],
   "source": [
    "from func import helper_functions\n",
    "dir(helper_functions)"
   ]
  },
  {
   "cell_type": "code",
   "execution_count": null,
   "metadata": {},
   "outputs": [],
   "source": [
    "lib_path = os.path.join('path', 'to', 'lib')\n",
    "with helper_functions.AddPath(lib_path):\n",
    "\tmodule = __import__('my_module')"
   ]
  },
  {
   "cell_type": "markdown",
   "metadata": {},
   "source": [
    "### ファイル区切り文字は`os.path.join`を使うこと\n",
    "\n",
    "ファイル区切り文字はUNIX系OSとWindowsで異なるため、`/`や`\\`を使うと環境に依存するコードになる。\n",
    "\n",
    "ファイル区切り文字は`os.path.join`を使うこと。\n",
    "\n",
    "例"
   ]
  },
  {
   "cell_type": "code",
   "execution_count": null,
   "metadata": {},
   "outputs": [],
   "source": [
    "import os\n",
    "\n",
    "# 以下のようにパスを組み立てる\n",
    "file_pass = os.path.join(\"scripts\", \"example_files\", \"hoge.txt\")\n",
    "\n",
    "# 以下のように具体的にパスを書くのはダメ\n",
    "file_pass = \"scripts\\example_files\\hoge.txt\" # Linux/Macでは動かない\n",
    "file_pass = \"scripts/example-files/hoge.txt\" # Windowsでは動かない"
   ]
  },
  {
   "cell_type": "markdown",
   "metadata": {},
   "source": [
    "### 絶対パスは原則使わないこと\n",
    "\n",
    "絶対パスは、環境に依存するため、原則使わないこと。\n",
    "\n",
    "相対パスを使うこと。\n",
    "\n",
    "Pythonファイルのあるフォルダーを知るには"
   ]
  },
  {
   "cell_type": "code",
   "execution_count": null,
   "metadata": {},
   "outputs": [],
   "source": [
    "import os\n",
    "\n",
    "# Pythonファイルのみ、jupyter notebookの場合は動かない\n",
    "script_dir = os.path.dirname(__file__)\n",
    "print(script_dir)"
   ]
  },
  {
   "cell_type": "markdown",
   "metadata": {},
   "source": [
    "\n",
    "ジュピターノートブックの場合はカレントディレクトリしかわからないので、`cd`(change directory)は原則使わないこと。\n",
    "\n",
    "どうしてもカレントディレクトリを変更したい場合は、コンテキストマネージャを使うなど、`cd`に失敗した場合のエラーハンドリングを行うこと。"
   ]
  },
  {
   "cell_type": "markdown",
   "metadata": {},
   "source": [
    "カレントディレクトリを取得するには"
   ]
  },
  {
   "cell_type": "code",
   "execution_count": 8,
   "metadata": {},
   "outputs": [
    {
     "name": "stdout",
     "output_type": "stream",
     "text": [
      "/home/bluqueen/Dropbox (Danlab)/personal/Development/python-beginner-jp\n"
     ]
    }
   ],
   "source": [
    "import os\n",
    "cur_dir = os.getcwd()\n",
    "print(cur_dir)"
   ]
  },
  {
   "cell_type": "markdown",
   "metadata": {},
   "source": [
    "### 終了しないループを書かないこと\n",
    "\n",
    "可能な限り`for`を使い、不必要に`while`を使わないこと。\n",
    "\n",
    "特に`while True:`を使うことは禁ずる。必ずフラグを設定し、フラグを立てたらループを抜けるようにすること。\n",
    "\n",
    "例"
   ]
  },
  {
   "cell_type": "code",
   "execution_count": null,
   "metadata": {},
   "outputs": [],
   "source": [
    "condition = False\n",
    "exit_loop = False # ループ脱出フラグ\n",
    "while not exit_loop:\n",
    "\n",
    "    # conditionが変わる処理\n",
    "\n",
    "    # 何かしらループ脱出の条件\n",
    "    if condition:\n",
    "        exit_loop = True"
   ]
  },
  {
   "cell_type": "markdown",
   "metadata": {},
   "source": [
    "### べた書きせずにクラスに入れること\n",
    "\n",
    "`import`と定数定義以外は原則としてプログラムをべた書きしないこと\n",
    "\n",
    "- 関数を使う\n",
    "- クラスに入れる\n",
    "- エントリーポイント`if __name__ == \"__main__\"`の中に入れる\n",
    "\n",
    "この理由は、スコープを限定して変数の衝突を防ぐためである。"
   ]
  },
  {
   "cell_type": "code",
   "execution_count": null,
   "metadata": {},
   "outputs": [],
   "source": [
    "from . import hoge\n",
    "\n",
    "class Fuga:\n",
    "\tdef __init__(self):\n",
    "\t\tself.hoge = hoge.Hoge()\n",
    "\n",
    "\tdef main(self):\n",
    "\t\t# 何かしらの処理\n",
    "\t\tpass\n",
    "\n",
    "# エントリーポイント\n",
    "if __name__ == \"__main__\":\n",
    "\tfuga = Fuga()\n",
    "\tfuga.main()"
   ]
  },
  {
   "cell_type": "markdown",
   "metadata": {},
   "source": [
    "### マジックナンバーを使わないこと"
   ]
  },
  {
   "cell_type": "markdown",
   "metadata": {},
   "source": [
    "### インデントを深くしないこと"
   ]
  },
  {
   "cell_type": "code",
   "execution_count": null,
   "metadata": {},
   "outputs": [],
   "source": [
    "# インデントが深くなる\n",
    "for i in range(10):\n",
    "\tif i == 5:\n",
    "\t\t# 何かしらの処理\n",
    "\t\t# 何かしらの処理\n",
    "\t\t# 何かしらの処理\n",
    "\n",
    "# if escapeでインデントを減らす\n",
    "for i in range(10):\n",
    "\tif i != 5:\n",
    "\t\tbreak\n",
    "\t# 何かしらの処理\n",
    "\t# 何かしらの処理\n",
    "\t# 何かしらの処理"
   ]
  },
  {
   "cell_type": "markdown",
   "metadata": {},
   "source": [
    "### キーワードを深く知る"
   ]
  },
  {
   "cell_type": "code",
   "execution_count": 9,
   "metadata": {},
   "outputs": [
    {
     "name": "stdout",
     "output_type": "stream",
     "text": [
      "this will be printed\n"
     ]
    }
   ],
   "source": [
    "# singleton false vs falsity\n",
    "if not []:\n",
    "   print(\"this will be printed\")\n",
    "if [] is False:\n",
    "   print(\"this won't\")"
   ]
  },
  {
   "cell_type": "markdown",
   "metadata": {},
   "source": [
    "### その他\n",
    "\n",
    "上記以外のことについては一般常識で判断すること。ソフトウェア開発の現場ではないので、あまり厳密にコーディング規約を定めない。\n",
    "\n",
    "- テストコードは必要か？\n",
    "\n",
    "ほぼ不要。しょせん研究現場なので。どうしてもよく使う複雑な関数だったりするならあっても良いが、そんなに大事ならきちんとPythonパッケージにすべき。\n",
    "\n",
    "- 多重継承？\n",
    "\n",
    "わざわざルールは設けないが、普通に考えて明らかなアンチパターンは避けること。経験値がものを言ったりもするのでわからなかったら強い人に聞くこと。\n",
    "\n",
    "- 変数の命名？\n",
    "\n",
    "わかりやすい名前をつけるのは結構難しい。PEP8に従うこと以外は特にルールは設けない。一貫性があってわかりやすい名前をつけること。現在のツールは変数名を変えるときに自動で変えてくれるので、変数名を変えることに抵抗を持たないこと。自動入力機能が豊富なので、わかりやすいなら長い変数名をつけることに抵抗を持たないこと。"
   ]
  }
 ],
 "metadata": {
  "kernelspec": {
   "display_name": "Python 3",
   "language": "python",
   "name": "python3"
  },
  "language_info": {
   "codemirror_mode": {
    "name": "ipython",
    "version": 3
   },
   "file_extension": ".py",
   "mimetype": "text/x-python",
   "name": "python",
   "nbconvert_exporter": "python",
   "pygments_lexer": "ipython3",
   "version": "3.10.12"
  }
 },
 "nbformat": 4,
 "nbformat_minor": 2
}
